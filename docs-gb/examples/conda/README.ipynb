{
 "cells": [
  {
   "cell_type": "markdown",
   "metadata": {},
   "source": [
    "# Custom Conda environments in MLServer\n",
    "\n",
    "It's not unusual that model runtimes require extra dependencies that are not direct dependencies of MLServer.\n",
    "This is the case when we want to use [custom runtimes](../custom/README), but also when our model artifacts are the output of older versions of a toolkit (e.g. models trained with an older version of SKLearn).\n",
    "\n",
    "In these cases, since these dependencies (or dependency versions) are not known in advance by MLServer, they **won't be included in the default `seldonio/mlserver` Docker image**.\n",
    "To cover these cases, the **`seldonio/mlserver` Docker image allows you to load custom environments** before starting the server itself.\n",
    "\n",
    "This example will walk you through how to create and save an custom environment, so that it can be loaded in MLServer without any extra change to the `seldonio/mlserver` Docker image. "
   ]
  },
  {
   "cell_type": "markdown",
   "metadata": {},
   "source": [
    "## Define our environment\n",
    "\n",
    "For this example, we will create a custom environment to serve a model trained with an older version of Scikit-Learn. \n",
    "The first step will be define this environment, using a [`environment.yml`](https://docs.conda.io/projects/conda/en/latest/user-guide/tasks/manage-environments.html#create-env-file-manually). \n",
    "\n",
    "Note that these environments can also be created on the fly as we go, and then serialised later."
   ]
  },
  {
   "cell_type": "code",
   "execution_count": null,
   "metadata": {},
   "outputs": [],
   "source": [
    "%%writefile environment.yml\n",
    "\n",
    "name: old-sklearn\n",
    "channels:\n",
    "    - conda-forge\n",
    "dependencies:\n",
    "    - python == 3.8\n",
    "    - scikit-learn == 0.24.2\n",
    "    - joblib == 0.17.0\n",
    "    - requests\n",
    "    - pip\n",
    "    - pip:\n",
    "        - mlserver == 1.1.0\n",
    "        - mlserver-sklearn == 1.1.0"
   ]
  },
  {
   "cell_type": "markdown",
   "metadata": {},
   "source": [
    "### Train model in our custom environment\n",
    "\n",
    "To illustrate the point, we will train a Scikit-Learn model using our older environment.\n",
    "\n",
    "The first step will be to create and activate an environment which reflects what's outlined in our `environment.yml` file.\n",
    "\n",
    "> **NOTE:** If you are running this from a Jupyter Notebook, you will need to restart your Jupyter instance so that it runs from this environment."
   ]
  },
  {
   "cell_type": "code",
   "execution_count": null,
   "metadata": {},
   "outputs": [],
   "source": [
    "!conda env create --force -f environment.yml\n",
    "!conda activate old-sklearn"
   ]
  },
  {
   "cell_type": "markdown",
   "metadata": {},
   "source": [
    "We can now train and save a Scikit-Learn model using the older version of our environment.\n",
    "This model will be serialised as `model.joblib`.\n",
    "\n",
    "You can find more details of this process in the [Scikit-Learn example](../sklearn/README)."
   ]
  },
  {
   "cell_type": "code",
   "execution_count": null,
   "metadata": {},
   "outputs": [],
   "source": [
    "# Original source code and more details can be found in:\n",
    "# https://scikit-learn.org/stable/auto_examples/classification/plot_digits_classification.html\n",
    "\n",
    "# Import datasets, classifiers and performance metrics\n",
    "from sklearn import datasets, svm, metrics\n",
    "from sklearn.model_selection import train_test_split\n",
    "\n",
    "# The digits dataset\n",
    "digits = datasets.load_digits()\n",
    "\n",
    "# To apply a classifier on this data, we need to flatten the image, to\n",
    "# turn the data in a (samples, feature) matrix:\n",
    "n_samples = len(digits.images)\n",
    "data = digits.images.reshape((n_samples, -1))\n",
    "\n",
    "# Create a classifier: a support vector classifier\n",
    "classifier = svm.SVC(gamma=0.001)\n",
    "\n",
    "# Split data into train and test subsets\n",
    "X_train, X_test, y_train, y_test = train_test_split(\n",
    "    data, digits.target, test_size=0.5, shuffle=False)\n",
    "\n",
    "# We learn the digits on the first half of the digits\n",
    "classifier.fit(X_train, y_train)"
   ]
  },
  {
   "cell_type": "code",
   "execution_count": null,
   "metadata": {},
   "outputs": [],
   "source": [
    "import joblib\n",
    "\n",
    "model_file_name = \"model.joblib\"\n",
    "joblib.dump(classifier, model_file_name)"
   ]
  },
  {
   "cell_type": "markdown",
   "metadata": {},
   "source": [
    "### Serialise our custom environment\n",
    "\n",
    "Lastly, we will need to serialise our environment in the format expected by MLServer.\n",
    "To do that, we will use a tool called [`conda-pack`](https://conda.github.io/conda-pack/).\n",
    "\n",
    "This tool, will save a portable version of our environment as a `.tar.gz` file, also known as _tarball_."
   ]
  },
  {
   "cell_type": "code",
   "execution_count": null,
   "metadata": {},
   "outputs": [],
   "source": [
    "!conda pack --force -n old-sklearn -o old-sklearn.tar.gz"
   ]
  },
  {
   "cell_type": "markdown",
   "metadata": {},
   "source": [
    "## Serving \n",
    "\n",
    "Now that we have defined our environment (and we've got a sample artifact trained in that environment), we can move to serving our model.\n",
    "\n",
    "To do that, we will first need to select the right runtime through a `model-settings.json` config file."
   ]
  },
  {
   "cell_type": "code",
   "execution_count": null,
   "metadata": {},
   "outputs": [],
   "source": [
    "%%writefile model-settings.json\n",
    "{\n",
    "    \"name\": \"mnist-svm\",\n",
    "    \"implementation\": \"mlserver_sklearn.SKLearnModel\"\n",
    "}"
   ]
  },
  {
   "cell_type": "markdown",
   "metadata": {},
   "source": [
    "We can then spin up our model, using our custom environment, leveraging MLServer's Docker image.\n",
    "Keep in mind that **you will need Docker installed in your machine to run this example**.\n",
    "\n",
    "Our Docker command will need to take into account the following points:\n",
    "\n",
    "- Mount the example's folder as a volume so that it can be accessed from within the container.\n",
    "- Let MLServer know that our custom environment's tarball can be found as `old-sklearn.tar.gz`.\n",
    "- Expose port `8080` so that we can send requests from the outside. \n",
    "\n",
    "From the command line, this can be done using Docker's CLI as:\n",
    "\n",
    "```bash\n",
    "docker run -it --rm \\\n",
    "    -v \"$PWD\":/mnt/models \\\n",
    "    -e \"MLSERVER_ENV_TARBALL=/mnt/models/old-sklearn.tar.gz\" \\\n",
    "    -p 8080:8080 \\\n",
    "    seldonio/mlserver:1.1.0-slim\n",
    "```\n",
    "\n",
    "Note that we need to keep the server running in the background while we send requests.\n",
    "Therefore, it's best to run this command on a separate terminal session."
   ]
  },
  {
   "cell_type": "markdown",
   "metadata": {},
   "source": [
    "### Send test inference request\n",
    "\n",
    "We now have our model being served by `mlserver`.\n",
    "To make sure that everything is working as expected, let's send a request from our test set.\n",
    "\n",
    "For that, we can use the Python types that `mlserver` provides out of box, or we can build our request manually."
   ]
  },
  {
   "cell_type": "code",
   "execution_count": null,
   "metadata": {},
   "outputs": [],
   "source": [
    "import requests\n",
    "\n",
    "x_0 = X_test[0:1]\n",
    "inference_request = {\n",
    "    \"inputs\": [\n",
    "        {\n",
    "          \"name\": \"predict\",\n",
    "          \"shape\": x_0.shape,\n",
    "          \"datatype\": \"FP32\",\n",
    "          \"data\": x_0.tolist()\n",
    "        }\n",
    "    ]\n",
    "}\n",
    "\n",
    "endpoint = \"http://localhost:8080/v2/models/mnist-svm/infer\"\n",
    "response = requests.post(endpoint, json=inference_request)\n",
    "\n",
    "response.json()"
   ]
  },
  {
   "cell_type": "code",
   "execution_count": null,
   "metadata": {},
   "outputs": [],
   "source": []
  }
 ],
 "metadata": {
  "kernelspec": {
   "display_name": "Python 3 (ipykernel)",
   "language": "python",
   "name": "python3"
  },
  "language_info": {
   "codemirror_mode": {
    "name": "ipython",
    "version": 3
   },
   "file_extension": ".py",
   "mimetype": "text/x-python",
   "name": "python",
   "nbconvert_exporter": "python",
   "pygments_lexer": "ipython3",
   "version": "3.9.8"
  }
 },
 "nbformat": 4,
 "nbformat_minor": 4
}
