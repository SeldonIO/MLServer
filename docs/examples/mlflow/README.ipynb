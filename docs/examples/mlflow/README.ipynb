{
 "cells": [
  {
   "cell_type": "markdown",
   "id": "subsequent-microwave",
   "metadata": {},
   "source": [
    "# Serving MLflow models\n",
    "\n",
    "Out of the box, MLServer supports the deployment and serving of MLflow models with the following features:\n",
    "\n",
    "- Loading of MLflow Model artifacts.\n",
    "- Support of dataframes, dict-of-tensors and tensor inputs.\n",
    "\n",
    "In this example, we will showcase some of this features using an example model."
   ]
  },
  {
   "cell_type": "code",
   "execution_count": 38,
   "id": "gross-poetry",
   "metadata": {},
   "outputs": [],
   "source": [
    "from IPython.core.magic import register_line_cell_magic\n",
    "\n",
    "@register_line_cell_magic\n",
    "def writetemplate(line, cell):\n",
    "    with open(line, 'w') as f:\n",
    "        f.write(cell.format(**globals()))"
   ]
  },
  {
   "cell_type": "markdown",
   "id": "placed-garbage",
   "metadata": {},
   "source": [
    "## Training\n",
    "\n",
    "The first step will be to train and serialise a MLflow model.\n",
    "For that, we will use the [linear regression examle from the MLflow docs](https://www.mlflow.org/docs/latest/tutorials-and-examples/tutorial.html)."
   ]
  },
  {
   "cell_type": "code",
   "execution_count": 2,
   "id": "endangered-joshua",
   "metadata": {
    "jupyter": {
     "source_hidden": true
    },
    "tags": []
   },
   "outputs": [],
   "source": [
    "# %load src/train.py\n",
    "# Original source code and more details can be found in:\n",
    "# https://www.mlflow.org/docs/latest/tutorials-and-examples/tutorial.html\n",
    "\n",
    "# The data set used in this example is from http://archive.ics.uci.edu/ml/datasets/Wine+Quality\n",
    "# P. Cortez, A. Cerdeira, F. Almeida, T. Matos and J. Reis.\n",
    "# Modeling wine preferences by data mining from physicochemical properties. In Decision Support Systems, Elsevier, 47(4):547-553, 2009.\n",
    "\n",
    "import os\n",
    "import warnings\n",
    "import sys\n",
    "\n",
    "import pandas as pd\n",
    "import numpy as np\n",
    "from sklearn.metrics import mean_squared_error, mean_absolute_error, r2_score\n",
    "from sklearn.model_selection import train_test_split\n",
    "from sklearn.linear_model import ElasticNet\n",
    "from urllib.parse import urlparse\n",
    "import mlflow\n",
    "import mlflow.sklearn\n",
    "\n",
    "import logging\n",
    "\n",
    "logging.basicConfig(level=logging.WARN)\n",
    "logger = logging.getLogger(__name__)\n",
    "\n",
    "\n",
    "def eval_metrics(actual, pred):\n",
    "    rmse = np.sqrt(mean_squared_error(actual, pred))\n",
    "    mae = mean_absolute_error(actual, pred)\n",
    "    r2 = r2_score(actual, pred)\n",
    "    return rmse, mae, r2\n",
    "\n",
    "\n",
    "if __name__ == \"__main__\":\n",
    "    warnings.filterwarnings(\"ignore\")\n",
    "    np.random.seed(40)\n",
    "\n",
    "    # Read the wine-quality csv file from the URL\n",
    "    csv_url = \"http://archive.ics.uci.edu/ml/machine-learning-databases/wine-quality/winequality-red.csv\"\n",
    "    try:\n",
    "        data = pd.read_csv(csv_url, sep=\";\")\n",
    "    except Exception as e:\n",
    "        logger.exception(\n",
    "            \"Unable to download training & test CSV, check your internet connection. Error: %s\",\n",
    "            e,\n",
    "        )\n",
    "\n",
    "    # Split the data into training and test sets. (0.75, 0.25) split.\n",
    "    train, test = train_test_split(data)\n",
    "\n",
    "    # The predicted column is \"quality\" which is a scalar from [3, 9]\n",
    "    train_x = train.drop([\"quality\"], axis=1)\n",
    "    test_x = test.drop([\"quality\"], axis=1)\n",
    "    train_y = train[[\"quality\"]]\n",
    "    test_y = test[[\"quality\"]]\n",
    "\n",
    "    alpha = float(sys.argv[1]) if len(sys.argv) > 1 else 0.5\n",
    "    l1_ratio = float(sys.argv[2]) if len(sys.argv) > 2 else 0.5\n",
    "\n",
    "    with mlflow.start_run():\n",
    "        lr = ElasticNet(alpha=alpha, l1_ratio=l1_ratio, random_state=42)\n",
    "        lr.fit(train_x, train_y)\n",
    "\n",
    "        predicted_qualities = lr.predict(test_x)\n",
    "\n",
    "        (rmse, mae, r2) = eval_metrics(test_y, predicted_qualities)\n",
    "\n",
    "        print(\"Elasticnet model (alpha=%f, l1_ratio=%f):\" % (alpha, l1_ratio))\n",
    "        print(\"  RMSE: %s\" % rmse)\n",
    "        print(\"  MAE: %s\" % mae)\n",
    "        print(\"  R2: %s\" % r2)\n",
    "\n",
    "        mlflow.log_param(\"alpha\", alpha)\n",
    "        mlflow.log_param(\"l1_ratio\", l1_ratio)\n",
    "        mlflow.log_metric(\"rmse\", rmse)\n",
    "        mlflow.log_metric(\"r2\", r2)\n",
    "        mlflow.log_metric(\"mae\", mae)\n",
    "\n",
    "        tracking_url_type_store = urlparse(mlflow.get_tracking_uri()).scheme\n",
    "\n",
    "        # Model registry does not work with file store\n",
    "        if tracking_url_type_store != \"file\":\n",
    "\n",
    "            # Register the model\n",
    "            # There are other ways to use the Model Registry, which depends on the use case,\n",
    "            # please refer to the doc for more information:\n",
    "            # https://mlflow.org/docs/latest/model-registry.html#api-workflow\n",
    "            mlflow.sklearn.log_model(\n",
    "                lr, \"model\", registered_model_name=\"ElasticnetWineModel\"\n",
    "            )\n",
    "        else:\n",
    "            mlflow.sklearn.log_model(lr, \"model\")\n"
   ]
  },
  {
   "cell_type": "code",
   "execution_count": 3,
   "id": "legal-hobby",
   "metadata": {},
   "outputs": [
    {
     "name": "stdout",
     "output_type": "stream",
     "text": [
      "Elasticnet model (alpha=0.500000, l1_ratio=0.500000):\n",
      "  RMSE: 0.7931640229276851\n",
      "  MAE: 0.6271946374319586\n",
      "  R2: 0.10862644997792614\n"
     ]
    }
   ],
   "source": [
    "!python src/train.py"
   ]
  },
  {
   "cell_type": "markdown",
   "id": "federal-transsexual",
   "metadata": {},
   "source": [
    "The training script will also serialise our trained model, leveraging the [MLflow Model format](https://www.mlflow.org/docs/latest/models.html).\n",
    "By default, we should be able to find the saved artifact under the `mlruns` folder."
   ]
  },
  {
   "cell_type": "code",
   "execution_count": 19,
   "id": "spatial-democracy",
   "metadata": {},
   "outputs": [
    {
     "name": "stdout",
     "output_type": "stream",
     "text": [
      "./mlruns/0/7bb8825ef42d4ae992ab17dc419b9c0a/artifacts/model\n"
     ]
    }
   ],
   "source": [
    "[experiment_file_path] = !ls -td ./mlruns/0/* | head -1\n",
    "model_path = os.path.join(experiment_file_path, \"artifacts\", \"model\")\n",
    "print(model_path)"
   ]
  },
  {
   "cell_type": "code",
   "execution_count": 20,
   "id": "incomplete-plaintiff",
   "metadata": {},
   "outputs": [
    {
     "name": "stdout",
     "output_type": "stream",
     "text": [
      "conda.yaml  MLmodel  model.pkl\n"
     ]
    }
   ],
   "source": [
    "!ls {model_path} "
   ]
  },
  {
   "cell_type": "markdown",
   "id": "limited-absorption",
   "metadata": {},
   "source": [
    "## Serving\n",
    "\n",
    "Now that we have trained and serialised our model, we are ready to start serving it.\n",
    "For that, the initial step will be to set up a `model-settings.json` that instructs MLServer to load our artifact using the MLflow Inference Runtime."
   ]
  },
  {
   "cell_type": "code",
   "execution_count": 43,
   "id": "exclusive-colony",
   "metadata": {},
   "outputs": [],
   "source": [
    "%%writetemplate ./model-settings.json\n",
    "{{\n",
    "    \"name\": \"wine-classifier\",\n",
    "    \"implementation\": \"mlserver_mlflow.MLflowRuntime\",\n",
    "    \"parameters\": {{\n",
    "        \"uri\": \"{model_path}\"\n",
    "    }}\n",
    "}}"
   ]
  },
  {
   "cell_type": "markdown",
   "id": "viral-cathedral",
   "metadata": {},
   "source": [
    "Now that we have our config in-place, we can start the server by running `mlserver start .`. This needs to either be ran from the same directory where our config files are or pointing to the folder where they are.\n",
    "\n",
    "```shell\n",
    "mlserver start .\n",
    "```\n",
    "\n",
    "Since this command will start the server and block the terminal, waiting for requests, this will need to be ran in the background on a separate terminal."
   ]
  },
  {
   "cell_type": "markdown",
   "id": "neural-status",
   "metadata": {},
   "source": [
    "### Send test inference request\n",
    "\n",
    "We now have our model being served by `mlserver`.\n",
    "To make sure that everything is working as expected, let's send a request from our test set.\n",
    "For that, we can use the Python types that `mlserver` provides out of box, or we can build our request manually.\n",
    "\n",
    "Note that, the request specifies the value `pd` as its *content type*, whereas every input specifies the *content type* `np`.\n",
    "These parameters will instruct MLServer to:\n",
    "\n",
    "- Convert every input value to a NumPy array, using the data type and shape information provided.\n",
    "- Group all the different inputs into a Pandas DataFrame, using their names as the column names.\n",
    "\n",
    "To learn more about how MLServer uses content type parameters, you can check this [worked out example](../content-type/README.md)."
   ]
  },
  {
   "cell_type": "code",
   "execution_count": 57,
   "id": "ancient-rugby",
   "metadata": {},
   "outputs": [
    {
     "data": {
      "text/plain": [
       "{'model_name': 'wine-classifier',\n",
       " 'model_version': None,\n",
       " 'id': '6fbd4020-ade6-4d57-9051-74997f47e91c',\n",
       " 'parameters': None,\n",
       " 'outputs': [{'name': 'predict',\n",
       "   'shape': [1],\n",
       "   'datatype': 'FP64',\n",
       "   'parameters': None,\n",
       "   'data': [5.576883936610762]}]}"
      ]
     },
     "execution_count": 57,
     "metadata": {},
     "output_type": "execute_result"
    }
   ],
   "source": [
    "import requests\n",
    "\n",
    "inference_request = {\n",
    "    \"parameters\": {\n",
    "        \"content_type\": \"pd\"\n",
    "    },\n",
    "    \"inputs\": [\n",
    "        {\n",
    "          \"name\": \"fixed acidity\",\n",
    "          \"shape\": [1],\n",
    "          \"datatype\": \"FP32\",\n",
    "          \"data\": [7.4],\n",
    "          \"parameters\": {\n",
    "              \"content_type\": \"np\"\n",
    "          }\n",
    "        },\n",
    "        {\n",
    "          \"name\": \"volatile acidity\",\n",
    "          \"shape\": [1],\n",
    "          \"datatype\": \"FP32\",\n",
    "          \"data\": [0.7000],\n",
    "          \"parameters\": {\n",
    "              \"content_type\": \"np\"\n",
    "          }\n",
    "        },\n",
    "        {\n",
    "          \"name\": \"citric acidity\",\n",
    "          \"shape\": [1],\n",
    "          \"datatype\": \"FP32\",\n",
    "          \"data\": [0],\n",
    "          \"parameters\": {\n",
    "              \"content_type\": \"np\"\n",
    "          }\n",
    "        },\n",
    "        {\n",
    "          \"name\": \"residual sugar\",\n",
    "          \"shape\": [1],\n",
    "          \"datatype\": \"FP32\",\n",
    "          \"data\": [1.9],\n",
    "          \"parameters\": {\n",
    "              \"content_type\": \"np\"\n",
    "          }\n",
    "        },\n",
    "        {\n",
    "          \"name\": \"chlorides\",\n",
    "          \"shape\": [1],\n",
    "          \"datatype\": \"FP32\",\n",
    "          \"data\": [0.076],\n",
    "          \"parameters\": {\n",
    "              \"content_type\": \"np\"\n",
    "          }\n",
    "        },\n",
    "        {\n",
    "          \"name\": \"free sulfur dioxide\",\n",
    "          \"shape\": [1],\n",
    "          \"datatype\": \"FP32\",\n",
    "          \"data\": [11],\n",
    "          \"parameters\": {\n",
    "              \"content_type\": \"np\"\n",
    "          }\n",
    "        },\n",
    "        {\n",
    "          \"name\": \"total sulfur dioxide\",\n",
    "          \"shape\": [1],\n",
    "          \"datatype\": \"FP32\",\n",
    "          \"data\": [34],\n",
    "          \"parameters\": {\n",
    "              \"content_type\": \"np\"\n",
    "          }\n",
    "        },\n",
    "        {\n",
    "          \"name\": \"density\",\n",
    "          \"shape\": [1],\n",
    "          \"datatype\": \"FP32\",\n",
    "          \"data\": [0.9978],\n",
    "          \"parameters\": {\n",
    "              \"content_type\": \"np\"\n",
    "          }\n",
    "        },\n",
    "        {\n",
    "          \"name\": \"pH\",\n",
    "          \"shape\": [1],\n",
    "          \"datatype\": \"FP32\",\n",
    "          \"data\": [3.51],\n",
    "          \"parameters\": {\n",
    "              \"content_type\": \"np\"\n",
    "          }\n",
    "        },\n",
    "        {\n",
    "          \"name\": \"sulphates\",\n",
    "          \"shape\": [1],\n",
    "          \"datatype\": \"FP32\",\n",
    "          \"data\": [0.56],\n",
    "          \"parameters\": {\n",
    "              \"content_type\": \"np\"\n",
    "          }\n",
    "        },\n",
    "        {\n",
    "          \"name\": \"alcohol\",\n",
    "          \"shape\": [1],\n",
    "          \"datatype\": \"FP32\",\n",
    "          \"data\": [9.4],\n",
    "          \"parameters\": {\n",
    "              \"content_type\": \"np\"\n",
    "          }\n",
    "        },\n",
    "    ]\n",
    "}\n",
    "\n",
    "endpoint = \"http://localhost:8080/v2/models/wine-classifier/infer\"\n",
    "response = requests.post(endpoint, json=inference_request)\n",
    "\n",
    "response.json()"
   ]
  },
  {
   "cell_type": "markdown",
   "id": "european-increase",
   "metadata": {},
   "source": [
    "As we can see in the output above, the predicted quality score for our input wine was `5.57`."
   ]
  },
  {
   "cell_type": "code",
   "execution_count": null,
   "id": "diagnostic-participant",
   "metadata": {},
   "outputs": [],
   "source": []
  }
 ],
 "metadata": {
  "kernelspec": {
   "display_name": "Python 3",
   "language": "python",
   "name": "python3"
  },
  "language_info": {
   "codemirror_mode": {
    "name": "ipython",
    "version": 3
   },
   "file_extension": ".py",
   "mimetype": "text/x-python",
   "name": "python",
   "nbconvert_exporter": "python",
   "pygments_lexer": "ipython3",
   "version": "3.7.8"
  }
 },
 "nbformat": 4,
 "nbformat_minor": 5
}
