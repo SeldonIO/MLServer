{
 "cells": [
  {
   "cell_type": "markdown",
   "id": "8c519626",
   "metadata": {},
   "source": [
    "# Serving HuggingFace Transformer Models\n",
    "\n",
    "Out of the box, MLServer supports the deployment and serving of HuggingFace Transformer models with the following features:\n",
    "\n",
    "- Loading of Transformer Model artifacts from the Hugging Face Hub.\n",
    "- Model quantization & optimization using the Hugging Face Optimum library\n",
    "- Request batching for GPU optimization (via adaptive batching and request batching)\n",
    "\n",
    "In this example, we will showcase some of this features using an example model."
   ]
  },
  {
   "cell_type": "code",
   "execution_count": null,
   "id": "b5b2588c",
   "metadata": {},
   "outputs": [],
   "source": [
    "# Import required dependencies\n",
    "import requests"
   ]
  },
  {
   "cell_type": "markdown",
   "id": "f1fed35e",
   "metadata": {},
   "source": [
    "## Serving\n",
    "\n",
    "Now that we have trained and serialised our model, we are ready to start serving it.\n",
    "For that, the initial step will be to set up a `model-settings.json` that instructs MLServer to load our artifact using the HuggingFace Inference Runtime.\n",
    "\n",
    "We will show how to add share a task "
   ]
  },
  {
   "cell_type": "code",
   "execution_count": 20,
   "id": "6df62443",
   "metadata": {},
   "outputs": [
    {
     "name": "stdout",
     "output_type": "stream",
     "text": [
      "Overwriting ./model-settings.json\n"
     ]
    }
   ],
   "source": [
    "%%writefile ./model-settings.json\n",
    "{\n",
    "    \"name\": \"transformer\",\n",
    "    \"implementation\": \"mlserver_huggingface.HuggingFaceRuntime\",\n",
    "    \"parallel_workers\": 0,\n",
    "    \"parameters\": {\n",
    "        \"extra\": {\n",
    "            \"task\": \"text-generation\",\n",
    "            \"pretrained_model\": \"distilgpt2\"\n",
    "        }\n",
    "    }\n",
    "}"
   ]
  },
  {
   "cell_type": "markdown",
   "id": "c6a6e8b2",
   "metadata": {},
   "source": [
    "Now that we have our config in-place, we can start the server by running `mlserver start .`. This needs to either be ran from the same directory where our config files are or pointing to the folder where they are.\n",
    "\n",
    "```shell\n",
    "mlserver start .\n",
    "```\n",
    "\n",
    "Since this command will start the server and block the terminal, waiting for requests, this will need to be ran in the background on a separate terminal."
   ]
  },
  {
   "cell_type": "markdown",
   "id": "b664c591",
   "metadata": {},
   "source": [
    "### Send test inference request\n"
   ]
  },
  {
   "cell_type": "code",
   "execution_count": 22,
   "id": "759ad7df",
   "metadata": {},
   "outputs": [
    {
     "data": {
      "text/plain": [
       "{'model_name': 'transformer',\n",
       " 'model_version': None,\n",
       " 'id': '9b24304e-730f-4a98-bfde-8949851388a9',\n",
       " 'parameters': None,\n",
       " 'outputs': [{'name': 'output',\n",
       "   'shape': [1],\n",
       "   'datatype': 'BYTES',\n",
       "   'parameters': None,\n",
       "   'data': ['[{\"generated_text\": \"this is a test-case where you\\'re checking if someone\\'s going to have an encrypted file that they like to open, or whether their file has a hidden contents if their file is not opened. If it\\'s the same file, when all the\"}]']}]}"
      ]
     },
     "execution_count": 22,
     "metadata": {},
     "output_type": "execute_result"
    }
   ],
   "source": [
    "inference_request = {\n",
    "    \"inputs\": [\n",
    "        {\n",
    "          \"name\": \"args\",\n",
    "          \"shape\": [1],\n",
    "          \"datatype\": \"BYTES\",\n",
    "          \"data\": [\"this is a test\"],\n",
    "        }\n",
    "    ]\n",
    "}\n",
    "\n",
    "requests.post(\"http://localhost:8080/v2/models/transformer/infer\", json=inference_request).json()"
   ]
  },
  {
   "cell_type": "markdown",
   "id": "0edbcf72",
   "metadata": {},
   "source": [
    "### Using Optimum Optimized Models\n",
    "\n",
    "We can also leverage the Optimum library that allows us to access quantized and optimized models. \n",
    "\n",
    "We can download pretrained optimized models from the hub if available by enabling the `optimum_model` flag:"
   ]
  },
  {
   "cell_type": "code",
   "execution_count": 6,
   "id": "6d185281",
   "metadata": {},
   "outputs": [
    {
     "name": "stdout",
     "output_type": "stream",
     "text": [
      "Overwriting ./model-settings.json\n"
     ]
    }
   ],
   "source": [
    "%%writefile ./model-settings.json\n",
    "{\n",
    "    \"name\": \"transformer\",\n",
    "    \"implementation\": \"mlserver_huggingface.HuggingFaceRuntime\",\n",
    "    \"parallel_workers\": 0,\n",
    "    \"parameters\": {\n",
    "        \"extra\": {\n",
    "            \"task\": \"text-generation\",\n",
    "            \"pretrained_model\": \"distilgpt2\",\n",
    "            \"optimum_model\": true\n",
    "        }\n",
    "    }\n",
    "}"
   ]
  },
  {
   "cell_type": "markdown",
   "id": "90925ef0",
   "metadata": {},
   "source": [
    "Once again, you are able to run the model using the MLServer CLI. As before this needs to either be ran from the same directory where our config files are or pointing to the folder where they are.\n",
    "\n",
    "```shell\n",
    "mlserver start .\n",
    "```"
   ]
  },
  {
   "cell_type": "markdown",
   "id": "6945db96",
   "metadata": {},
   "source": [
    "### Send Test Request to Optimum Optimized Model\n",
    "\n",
    "The request can now be sent using the same request structure but using optimized models for better performance."
   ]
  },
  {
   "cell_type": "code",
   "execution_count": 23,
   "id": "39d8b438",
   "metadata": {},
   "outputs": [
    {
     "data": {
      "text/plain": [
       "{'model_name': 'transformer',\n",
       " 'model_version': None,\n",
       " 'id': '296ea44e-7696-4584-af5a-148a7083b2e7',\n",
       " 'parameters': None,\n",
       " 'outputs': [{'name': 'output',\n",
       "   'shape': [1],\n",
       "   'datatype': 'BYTES',\n",
       "   'parameters': None,\n",
       "   'data': ['[{\"generated_text\": \"this is a test that allows us to define the value type, and a function is defined directly with these variables.\\\\n\\\\n\\\\nThe function is defined for a parameter with type\\\\nIn this example,\\\\nif you pass a message function like\\\\ntype\"}]']}]}"
      ]
     },
     "execution_count": 23,
     "metadata": {},
     "output_type": "execute_result"
    }
   ],
   "source": [
    "inference_request = {\n",
    "    \"inputs\": [\n",
    "        {\n",
    "          \"name\": \"args\",\n",
    "          \"shape\": [1],\n",
    "          \"datatype\": \"BYTES\",\n",
    "          \"data\": [\"this is a test\"],\n",
    "        }\n",
    "    ]\n",
    "}\n",
    "\n",
    "requests.post(\"http://localhost:8080/v2/models/transformer/infer\", json=inference_request).json()"
   ]
  },
  {
   "cell_type": "markdown",
   "id": "ad88a78f",
   "metadata": {},
   "source": [
    "## Testing Supported Tasks\n",
    "\n",
    "We can support multiple other transformers other than just text generation, below includes examples for a few other tasks supported.\n",
    "\n"
   ]
  },
  {
   "cell_type": "markdown",
   "id": "e9ee06c8",
   "metadata": {},
   "source": [
    "### Question Answering"
   ]
  },
  {
   "cell_type": "code",
   "execution_count": 8,
   "id": "4492dc01",
   "metadata": {},
   "outputs": [
    {
     "name": "stdout",
     "output_type": "stream",
     "text": [
      "Overwriting ./model-settings.json\n"
     ]
    }
   ],
   "source": [
    "%%writefile ./model-settings.json\n",
    "{\n",
    "    \"name\": \"transformer\",\n",
    "    \"implementation\": \"mlserver_huggingface.HuggingFaceRuntime\",\n",
    "    \"parallel_workers\": 0,\n",
    "    \"parameters\": {\n",
    "        \"extra\": {\n",
    "            \"task\": \"question-answering\"\n",
    "        }\n",
    "    }\n",
    "}"
   ]
  },
  {
   "cell_type": "markdown",
   "id": "9abf39e0",
   "metadata": {},
   "source": [
    "Once again, you are able to run the model using the MLServer CLI.\n",
    "\n",
    "```shell\n",
    "mlserver start .\n",
    "```"
   ]
  },
  {
   "cell_type": "code",
   "execution_count": 13,
   "id": "d7aaf365",
   "metadata": {
    "scrolled": true
   },
   "outputs": [
    {
     "data": {
      "text/plain": [
       "{'model_name': 'gpt2-model',\n",
       " 'model_version': None,\n",
       " 'id': '204ad4e7-79ea-40b4-8efb-aed16dedf7ed',\n",
       " 'parameters': None,\n",
       " 'outputs': [{'name': 'output',\n",
       "   'shape': [1],\n",
       "   'datatype': 'BYTES',\n",
       "   'parameters': None,\n",
       "   'data': ['{\"score\": 0.9869922995567322, \"start\": 12, \"end\": 18, \"answer\": \"Seldon\"}']}]}"
      ]
     },
     "execution_count": 13,
     "metadata": {},
     "output_type": "execute_result"
    }
   ],
   "source": [
    "inference_request = {\n",
    "    \"inputs\": [\n",
    "        {\n",
    "          \"name\": \"question\",\n",
    "          \"shape\": [1],\n",
    "          \"datatype\": \"BYTES\",\n",
    "          \"data\": [\"what is your name?\"],\n",
    "        },\n",
    "        {\n",
    "          \"name\": \"context\",\n",
    "          \"shape\": [1],\n",
    "          \"datatype\": \"BYTES\",\n",
    "          \"data\": [\"Hello, I am Seldon, how is it going\"],\n",
    "        }\n",
    "    ]\n",
    "}\n",
    "\n",
    "requests.post(\"http://localhost:8080/v2/models/transformer/infer\", json=inference_request).json()"
   ]
  },
  {
   "cell_type": "markdown",
   "id": "5aa51356",
   "metadata": {},
   "source": [
    "### Sentiment Analysis"
   ]
  },
  {
   "cell_type": "code",
   "execution_count": 14,
   "id": "8e70c7d7",
   "metadata": {},
   "outputs": [
    {
     "name": "stdout",
     "output_type": "stream",
     "text": [
      "Overwriting ./model-settings.json\n"
     ]
    }
   ],
   "source": [
    "%%writefile ./model-settings.json\n",
    "{\n",
    "    \"name\": \"transformer\",\n",
    "    \"implementation\": \"mlserver_huggingface.HuggingFaceRuntime\",\n",
    "    \"parallel_workers\": 0,\n",
    "    \"parameters\": {\n",
    "        \"extra\": {\n",
    "            \"task\": \"text-classification\"\n",
    "        }\n",
    "    }\n",
    "}"
   ]
  },
  {
   "cell_type": "markdown",
   "id": "ed336525",
   "metadata": {},
   "source": [
    "Once again, you are able to run the model using the MLServer CLI.\n",
    "\n",
    "```shell\n",
    "mlserver start .\n",
    "```"
   ]
  },
  {
   "cell_type": "code",
   "execution_count": 19,
   "id": "2f704413",
   "metadata": {
    "scrolled": true
   },
   "outputs": [
    {
     "data": {
      "text/plain": [
       "{'model_name': 'transformer',\n",
       " 'model_version': None,\n",
       " 'id': '463ceddb-f426-4815-9c46-9fa9fc5272b1',\n",
       " 'parameters': None,\n",
       " 'outputs': [{'name': 'output',\n",
       "   'shape': [1],\n",
       "   'datatype': 'BYTES',\n",
       "   'parameters': None,\n",
       "   'data': ['[{\"label\": \"NEGATIVE\", \"score\": 0.9996137022972107}]']}]}"
      ]
     },
     "execution_count": 19,
     "metadata": {},
     "output_type": "execute_result"
    }
   ],
   "source": [
    "inference_request = {\n",
    "    \"inputs\": [\n",
    "        {\n",
    "          \"name\": \"args\",\n",
    "          \"shape\": [1],\n",
    "          \"datatype\": \"BYTES\",\n",
    "          \"data\": [\"This is terrible!\"],\n",
    "        }\n",
    "    ]\n",
    "}\n",
    "\n",
    "requests.post(\"http://localhost:8080/v2/models/transformer/infer\", json=inference_request).json()"
   ]
  },
  {
   "cell_type": "markdown",
   "id": "fe6655d9",
   "metadata": {},
   "source": [
    "## GPU Acceleration\n",
    "\n",
    "We can also evaluate GPU acceleration, we can test the speed on CPU vs GPU using the following parameters\n",
    "\n",
    "### Testing with CPU\n",
    "\n",
    "We first test the time taken with the device=-1 which configures CPU by default"
   ]
  },
  {
   "cell_type": "code",
   "execution_count": 9,
   "id": "827472eb",
   "metadata": {},
   "outputs": [
    {
     "name": "stdout",
     "output_type": "stream",
     "text": [
      "Overwriting ./model-settings.json\n"
     ]
    }
   ],
   "source": [
    "%%writefile ./model-settings.json\n",
    "{\n",
    "    \"name\": \"transformer\",\n",
    "    \"implementation\": \"mlserver_huggingface.HuggingFaceRuntime\",\n",
    "    \"parallel_workers\": 0,\n",
    "    \"parameters\": {\n",
    "        \"extra\": {\n",
    "            \"task\": \"text-generation\",\n",
    "            \"device\": -1,\n",
    "            \"batch_size\": 128\n",
    "        }\n",
    "    }\n",
    "}"
   ]
  },
  {
   "cell_type": "markdown",
   "id": "eceb4d12",
   "metadata": {},
   "source": [
    "Once again, you are able to run the model using the MLServer CLI.\n",
    "\n",
    "```shell\n",
    "mlserver start .\n",
    "```"
   ]
  },
  {
   "cell_type": "code",
   "execution_count": 11,
   "id": "888501c1",
   "metadata": {},
   "outputs": [
    {
     "name": "stdout",
     "output_type": "stream",
     "text": [
      "Elapsed time: 81.57849169999827\n"
     ]
    }
   ],
   "source": [
    "inference_request = {\n",
    "    \"inputs\": [\n",
    "        {\n",
    "          \"name\": \"text_inputs\",\n",
    "          \"shape\": [1],\n",
    "          \"datatype\": \"BYTES\",\n",
    "          \"data\": [\"This is a generation for the work\" for i in range(512)],\n",
    "        }\n",
    "    ]\n",
    "}\n",
    "\n",
    "# Benchmark time\n",
    "import time\n",
    "start_time = time.monotonic()\n",
    "\n",
    "requests.post(\"http://localhost:8080/v2/models/transformer/infer\", json=inference_request)\n",
    "\n",
    "print(f\"Elapsed time: {time.monotonic() - start_time}\")"
   ]
  },
  {
   "cell_type": "markdown",
   "id": "92756662",
   "metadata": {},
   "source": [
    "We can see that it takes 81 seconds which is 8 times longer than the gpu example below."
   ]
  },
  {
   "cell_type": "markdown",
   "id": "cd2e208c",
   "metadata": {},
   "source": [
    "### Testing with GPU\n",
    "\n",
    "IMPORTANT: Running the code below requries having a machine with GPU configured correctly to work for Tensorflow/Pytorch.\n",
    "    \n",
    "Now we'll run the benchmark with GPU configured, which we can do by setting `device=0`"
   ]
  },
  {
   "cell_type": "code",
   "execution_count": 12,
   "id": "032b8f4e",
   "metadata": {},
   "outputs": [
    {
     "name": "stdout",
     "output_type": "stream",
     "text": [
      "Overwriting ./model-settings.json\n"
     ]
    }
   ],
   "source": [
    "%%writefile ./model-settings.json\n",
    "{\n",
    "    \"name\": \"transformer\",\n",
    "    \"implementation\": \"mlserver_huggingface.HuggingFaceRuntime\",\n",
    "    \"parallel_workers\": 0,\n",
    "    \"parameters\": {\n",
    "        \"extra\": {\n",
    "            \"task\": \"text-generation\",\n",
    "            \"device\": 0,\n",
    "            \"batch_size\": 128\n",
    "        }\n",
    "    }\n",
    "}"
   ]
  },
  {
   "cell_type": "code",
   "execution_count": 13,
   "id": "1b6bd339",
   "metadata": {},
   "outputs": [
    {
     "name": "stdout",
     "output_type": "stream",
     "text": [
      "Elapsed time: 11.27933280000434\n"
     ]
    }
   ],
   "source": [
    "inference_request = {\n",
    "    \"inputs\": [\n",
    "        {\n",
    "          \"name\": \"text_inputs\",\n",
    "          \"shape\": [1],\n",
    "          \"datatype\": \"BYTES\",\n",
    "          \"data\": [\"This is a generation for the work\" for i in range(512)],\n",
    "        }\n",
    "    ]\n",
    "}\n",
    "\n",
    "# Benchmark time\n",
    "import time\n",
    "start_time = time.monotonic()\n",
    "\n",
    "requests.post(\"http://localhost:8080/v2/models/transformer/infer\", json=inference_request)\n",
    "\n",
    "print(f\"Elapsed time: {time.monotonic() - start_time}\")"
   ]
  },
  {
   "cell_type": "markdown",
   "id": "c929108c",
   "metadata": {},
   "source": [
    "We can see that the elapsed time is 8 times less than the CPU version!"
   ]
  },
  {
   "cell_type": "code",
   "execution_count": null,
   "id": "810a4abe",
   "metadata": {},
   "outputs": [],
   "source": []
  }
 ],
 "metadata": {
  "kernelspec": {
   "display_name": "Python 3",
   "language": "python",
   "name": "python3"
  },
  "language_info": {
   "codemirror_mode": {
    "name": "ipython",
    "version": 3
   },
   "file_extension": ".py",
   "mimetype": "text/x-python",
   "name": "python",
   "nbconvert_exporter": "python",
   "pygments_lexer": "ipython3",
   "version": "3.7.10"
  }
 },
 "nbformat": 4,
 "nbformat_minor": 5
}
