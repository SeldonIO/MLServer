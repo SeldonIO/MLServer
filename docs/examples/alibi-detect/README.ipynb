{
 "cells": [
  {
   "cell_type": "markdown",
   "source": [
    "# Serving Alibi-Detect models\n",
    "\n",
    "Out of the box, `mlserver` supports the deployment and serving of `alibi-detect` models. In this example, we will cover how we can create a detector configuration to then serve it using `mlserver`."
   ],
   "metadata": {}
  },
  {
   "cell_type": "markdown",
   "source": [
    "## Reference Data and Configuration\n",
    "\n",
    "The first step will be to fetch a reference data for an `alibi-detect` model. For that, we will use the [income Classifier example from the `alibi-detect` documentation](https://docs.seldon.io/projects/alibi-detect/en/latest/examples/cd_chi2ks_adult.html)"
   ],
   "metadata": {}
  },
  {
   "cell_type": "markdown",
   "source": [
    "Install Alibi dependencies for dataset and detector creation"
   ],
   "metadata": {}
  },
  {
   "cell_type": "code",
   "execution_count": null,
   "source": [
    "!pip install alibi alibi_detect"
   ],
   "outputs": [],
   "metadata": {}
  },
  {
   "cell_type": "code",
   "execution_count": 1,
   "source": [
    "import alibi\n",
    "import matplotlib.pyplot as plt\n",
    "import numpy as np"
   ],
   "outputs": [],
   "metadata": {}
  },
  {
   "cell_type": "code",
   "execution_count": 2,
   "source": [
    "adult = alibi.datasets.fetch_adult()\n",
    "X, y = adult.data, adult.target\n",
    "feature_names = adult.feature_names\n",
    "category_map = adult.category_map\n",
    "X.shape, y.shape"
   ],
   "outputs": [
    {
     "output_type": "execute_result",
     "data": {
      "text/plain": [
       "((32561, 12), (32561,))"
      ]
     },
     "metadata": {},
     "execution_count": 2
    }
   ],
   "metadata": {}
  },
  {
   "cell_type": "code",
   "execution_count": 3,
   "source": [
    "n_ref = 10000\n",
    "n_test = 10000\n",
    "\n",
    "X_ref, X_t0, X_t1 = X[:n_ref], X[n_ref:n_ref + n_test], X[n_ref + n_test:n_ref + 2 * n_test]\n",
    "X_ref.shape, X_t0.shape, X_t1.shape"
   ],
   "outputs": [
    {
     "output_type": "execute_result",
     "data": {
      "text/plain": [
       "((10000, 12), (10000, 12), (10000, 12))"
      ]
     },
     "metadata": {},
     "execution_count": 3
    }
   ],
   "metadata": {}
  },
  {
   "cell_type": "code",
   "execution_count": 4,
   "source": [
    "categories_per_feature = {f: None for f in list(category_map.keys())}"
   ],
   "outputs": [],
   "metadata": {}
  },
  {
   "cell_type": "markdown",
   "source": [
    "### Saving our reference data"
   ],
   "metadata": {}
  },
  {
   "cell_type": "code",
   "execution_count": 5,
   "source": [
    "detector_data={\"x_ref\":X_ref,\"categories_per_feature\":categories_per_feature}"
   ],
   "outputs": [],
   "metadata": {}
  },
  {
   "cell_type": "code",
   "execution_count": 6,
   "source": [
    "import pickle\n",
    "filepath = 'alibi-detector-artifacts/detector_data.pkl' \n",
    "pickle.dump(detector_data, open(filepath,\"wb\"))"
   ],
   "outputs": [],
   "metadata": {}
  },
  {
   "cell_type": "markdown",
   "source": [
    "## Serving\n",
    "\n",
    "Now that we have the reference data and other configuration parameters, the next step will be to serve it using `mlserver`. \n",
    "For that, we will need to create 2 configuration files: \n",
    "\n",
    "- `settings.json`: holds the configuration of our server (e.g. ports, log level, etc.).\n",
    "- `model-settings.json`: holds the configuration of our model (e.g. input type, runtime to use, etc.)."
   ],
   "metadata": {}
  },
  {
   "cell_type": "markdown",
   "source": [
    "### `settings.json`"
   ],
   "metadata": {}
  },
  {
   "cell_type": "code",
   "execution_count": 7,
   "source": [
    "%%writefile settings.json\n",
    "{\n",
    "    \"debug\": \"true\"\n",
    "}"
   ],
   "outputs": [
    {
     "output_type": "stream",
     "name": "stdout",
     "text": [
      "Overwriting settings.json\n"
     ]
    }
   ],
   "metadata": {}
  },
  {
   "cell_type": "markdown",
   "source": [
    "### `model-settings.json`"
   ],
   "metadata": {}
  },
  {
   "cell_type": "code",
   "execution_count": 8,
   "source": [
    "%%writefile model-settings.json\n",
    "{\n",
    "  \"name\": \"income-classifier-cd\",\n",
    "  \"implementation\": \"mlserver_alibi_detect.AlibiDriftDetectRuntime\",\n",
    "  \"parameters\": {\n",
    "    \"uri\": \"./alibi-detector-artifacts/detector_data.pkl\",\n",
    "    \"version\": \"v0.1.0\",\n",
    "    \"extra\":{\n",
    "      \"detector_type\":\"alibi_detect.cd.TabularDrift\",\n",
    "      \"protocol\": \"kfserving.http\",\n",
    "      \"init_detector\": true,\n",
    "      \"init_parameters\": {\n",
    "        \"p_val\": 0.05\n",
    "      },\n",
    "      \"predict_parameters\": {\n",
    "        \"drift_type\": \"feature\"\n",
    "      }\n",
    "    }\n",
    "  }\n",
    "}"
   ],
   "outputs": [
    {
     "output_type": "stream",
     "name": "stdout",
     "text": [
      "Overwriting model-settings.json\n"
     ]
    }
   ],
   "metadata": {}
  },
  {
   "cell_type": "markdown",
   "source": [
    "### Start serving our model\n",
    "\n",
    "Now that we have our config in-place, we can start the server by running `mlserver start .`. This needs to either be ran from the same directory where our config files are or pointing to the folder where they are.\n",
    "\n",
    "```shell\n",
    "mlserver start .\n",
    "```\n",
    "\n",
    "Since this command will start the server and block the terminal, waiting for requests, this will need to be ran in the background on a separate terminal."
   ],
   "metadata": {}
  },
  {
   "cell_type": "markdown",
   "source": [
    "### Send test inference request\n",
    "\n",
    "We now have our model being served by `mlserver`.\n",
    "To make sure that everything is working as expected, let's send a request from our test set.\n",
    "\n",
    "For that, we can use the Python types that `mlserver` provides out of box, or we can build our request manually."
   ],
   "metadata": {}
  },
  {
   "cell_type": "markdown",
   "source": [
    "# TabularDrift"
   ],
   "metadata": {}
  },
  {
   "cell_type": "markdown",
   "source": [
    "### Detecting Drift locally"
   ],
   "metadata": {}
  },
  {
   "cell_type": "code",
   "execution_count": 9,
   "source": [
    "from alibi_detect.cd import TabularDrift\n",
    "cd = TabularDrift(X_ref, p_val=.05, categories_per_feature=categories_per_feature)\n",
    "cd.predict(X_t0,drift_type=\"feature\")"
   ],
   "outputs": [
    {
     "output_type": "execute_result",
     "data": {
      "text/plain": [
       "{'data': {'is_drift': array([0, 0, 0, 0, 0, 0, 0, 0, 0, 0, 0, 0]),\n",
       "  'distance': array([1.1600000e-02, 8.4865131e+00, 4.7529316e+00, 3.1599441e+00,\n",
       "         8.1941366e+00, 4.8458526e-01, 5.8652312e-01, 2.1689056e-01,\n",
       "         2.4000001e-03, 1.6000000e-03, 1.1600000e-02, 9.9910326e+00],\n",
       "        dtype=float32),\n",
       "  'p_val': array([0.50786483, 0.38744345, 0.5758693 , 0.36761624, 0.41473988,\n",
       "         0.99267685, 0.9645494 , 0.6414195 , 1.        , 1.        ,\n",
       "         0.50786483, 0.44128036], dtype=float32),\n",
       "  'threshold': 0.05},\n",
       " 'meta': {'name': 'TabularDrift',\n",
       "  'detector_type': 'offline',\n",
       "  'data_type': None}}"
      ]
     },
     "metadata": {},
     "execution_count": 9
    }
   ],
   "metadata": {}
  },
  {
   "cell_type": "markdown",
   "source": [
    "### Detecting Drift via MLServer"
   ],
   "metadata": {}
  },
  {
   "cell_type": "code",
   "execution_count": 11,
   "source": [
    "import requests\n",
    "\n",
    "inference_request = {\n",
    "    \"inputs\": [\n",
    "        {\n",
    "            \"name\": \"predict\",\n",
    "            \"shape\": X_t0.shape,\n",
    "            \"datatype\": \"FP32\",\n",
    "            \"data\": X_t0.tolist(),\n",
    "        }\n",
    "    ],\n",
    "}\n",
    "\n",
    "endpoint = \"http://localhost:8080/v2/models/income-classifier-cd/versions/v0.1.0/infer\"\n",
    "response = requests.post(endpoint, json=inference_request)"
   ],
   "outputs": [],
   "metadata": {}
  },
  {
   "cell_type": "code",
   "execution_count": 16,
   "source": [
    "import json\n",
    "response_dict = json.loads(response.text)\n",
    "print(response_dict,\"\\n\")\n",
    "\n",
    "labels = ['No!', 'Yes!']\n",
    "for f in range(cd.n_features):\n",
    "    stat = 'Chi2' if f in list(categories_per_feature.keys()) else 'K-S'\n",
    "    fname = feature_names[f]\n",
    "    is_drift = response_dict['outputs'][0]['data'][f]\n",
    "    print(f'{fname} -- Drift? {labels[is_drift]}')"
   ],
   "outputs": [
    {
     "output_type": "stream",
     "name": "stdout",
     "text": [
      "{'model_name': 'income-classifier-cd', 'model_version': 'v0.1.0', 'id': '91735bdf-367d-443d-bafe-b810bc41da50', 'parameters': {'content_type': None, 'detector_type': 'offline', 'name': 'TabularDrift', 'data_type': None}, 'outputs': [{'name': 'detect', 'shape': [12], 'datatype': 'INT64', 'parameters': None, 'data': [0, 0, 0, 0, 0, 0, 0, 0, 0, 0, 0, 0]}]} \n",
      "\n",
      "Age -- Drift? No!\n",
      "Workclass -- Drift? No!\n",
      "Education -- Drift? No!\n",
      "Marital Status -- Drift? No!\n",
      "Occupation -- Drift? No!\n",
      "Relationship -- Drift? No!\n",
      "Race -- Drift? No!\n",
      "Sex -- Drift? No!\n",
      "Capital Gain -- Drift? No!\n",
      "Capital Loss -- Drift? No!\n",
      "Hours per week -- Drift? No!\n",
      "Country -- Drift? No!\n"
     ]
    }
   ],
   "metadata": {}
  },
  {
   "cell_type": "markdown",
   "source": [
    "### Detecting Drift via custom endpoint for v2 protocol"
   ],
   "metadata": {}
  },
  {
   "cell_type": "code",
   "execution_count": 17,
   "source": [
    "import requests\n",
    "\n",
    "inference_request = {\n",
    "    \"inputs\": [\n",
    "        {\n",
    "            \"name\": \"predict\",\n",
    "            \"shape\": X_t0.shape,\n",
    "            \"datatype\": \"FP32\",\n",
    "            \"data\": X_t0.tolist(),\n",
    "        }\n",
    "    ],\n",
    "}\n",
    "\n",
    "endpoint = \"http://localhost:8080/\"\n",
    "response = requests.post(endpoint, json=inference_request)"
   ],
   "outputs": [],
   "metadata": {}
  },
  {
   "cell_type": "code",
   "execution_count": 18,
   "source": [
    "import json\n",
    "response_dict = json.loads(response.text)\n",
    "print(response_dict,\"\\n\")\n",
    "\n",
    "labels = ['No!', 'Yes!']\n",
    "for f in range(cd.n_features):\n",
    "    stat = 'Chi2' if f in list(categories_per_feature.keys()) else 'K-S'\n",
    "    fname = feature_names[f]\n",
    "    is_drift = response_dict['data']['is_drift'][f]\n",
    "    stat_val, p_val = response_dict['data']['distance'][f], response_dict['data']['p_val'][f]\n",
    "    print(f'{fname} -- Drift? {labels[is_drift]} -- {stat} {stat_val:.3f} -- p-value {p_val:.3f}')"
   ],
   "outputs": [
    {
     "output_type": "stream",
     "name": "stdout",
     "text": [
      "{'data': {'is_drift': [0, 0, 0, 0, 0, 0, 0, 0, 0, 0, 0, 0], 'distance': [0.0116, 8.486513, 4.7529316, 3.159944, 8.194137, 0.48458526, 0.5865231, 0.21689056, 0.0024, 0.0016, 0.0116, 9.991033], 'p_val': [0.50786483, 0.38744345, 0.5758693, 0.36761624, 0.41473988, 0.99267685, 0.9645494, 0.6414195, 1.0, 1.0, 0.50786483, 0.44128036], 'threshold': 0.05}, 'meta': {'name': 'TabularDrift', 'detector_type': 'offline', 'data_type': None}} \n",
      "\n",
      "Age -- Drift? No! -- K-S 0.012 -- p-value 0.508\n",
      "Workclass -- Drift? No! -- Chi2 8.487 -- p-value 0.387\n",
      "Education -- Drift? No! -- Chi2 4.753 -- p-value 0.576\n",
      "Marital Status -- Drift? No! -- Chi2 3.160 -- p-value 0.368\n",
      "Occupation -- Drift? No! -- Chi2 8.194 -- p-value 0.415\n",
      "Relationship -- Drift? No! -- Chi2 0.485 -- p-value 0.993\n",
      "Race -- Drift? No! -- Chi2 0.587 -- p-value 0.965\n",
      "Sex -- Drift? No! -- Chi2 0.217 -- p-value 0.641\n",
      "Capital Gain -- Drift? No! -- K-S 0.002 -- p-value 1.000\n",
      "Capital Loss -- Drift? No! -- K-S 0.002 -- p-value 1.000\n",
      "Hours per week -- Drift? No! -- K-S 0.012 -- p-value 0.508\n",
      "Country -- Drift? No! -- Chi2 9.991 -- p-value 0.441\n"
     ]
    }
   ],
   "metadata": {}
  },
  {
   "cell_type": "markdown",
   "source": [
    "### Detecting Drift via custom endpoint for Tensorflow protocol"
   ],
   "metadata": {}
  },
  {
   "cell_type": "code",
   "execution_count": 19,
   "source": [
    "%%writefile model-settings.json\n",
    "{\n",
    "  \"name\": \"income-classifier-cd\",\n",
    "  \"implementation\": \"mlserver_alibi_detect.AlibiDriftDetectRuntime\",\n",
    "  \"parameters\": {\n",
    "    \"uri\": \"./alibi-detector-artifacts/detector_data.pkl\",\n",
    "    \"version\": \"v0.1.0\",\n",
    "    \"extra\":{\n",
    "      \"detector_type\":\"alibi_detect.cd.TabularDrift\",\n",
    "      \"init_detector\":true,\n",
    "      \"protocol\": \"tensorflow.http\",\n",
    "      \"init_parameters\": {\n",
    "        \"p_val\": 0.05\n",
    "      },\n",
    "      \"predict_parameters\": {\n",
    "        \"drift_type\": \"feature\"\n",
    "      }\n",
    "    }\n",
    "  }\n",
    "}"
   ],
   "outputs": [
    {
     "output_type": "stream",
     "name": "stdout",
     "text": [
      "Overwriting model-settings.json\n"
     ]
    }
   ],
   "metadata": {}
  },
  {
   "cell_type": "markdown",
   "source": [
    "Restart the mlserver after changing the settings file."
   ],
   "metadata": {}
  },
  {
   "cell_type": "code",
   "execution_count": 20,
   "source": [
    "import requests\n",
    "\n",
    "inference_request = {\n",
    "    \"instances\": X_t1.tolist()\n",
    "}\n",
    "\n",
    "endpoint = \"http://localhost:8080/\"\n",
    "response = requests.post(endpoint, json=inference_request)"
   ],
   "outputs": [],
   "metadata": {}
  },
  {
   "cell_type": "code",
   "execution_count": 21,
   "source": [
    "import json\n",
    "response_dict = json.loads(response.text)\n",
    "print(response_dict,\"\\n\")\n",
    "\n",
    "labels = ['No!', 'Yes!']\n",
    "for f in range(cd.n_features):\n",
    "    stat = 'Chi2' if f in list(categories_per_feature.keys()) else 'K-S'\n",
    "    fname = feature_names[f]\n",
    "    is_drift = response_dict['data']['is_drift'][f]\n",
    "    stat_val, p_val = response_dict['data']['distance'][f], response_dict['data']['p_val'][f]\n",
    "    print(f'{fname} -- Drift? {labels[is_drift]} -- {stat} {stat_val:.3f} -- p-value {p_val:.3f}')"
   ],
   "outputs": [
    {
     "output_type": "stream",
     "name": "stdout",
     "text": [
      "{'data': {'is_drift': [0, 0, 0, 0, 0, 0, 0, 0, 0, 0, 0, 0], 'distance': [0.007, 5.799565, 5.4128075, 1.1667116, 12.295819, 6.519854, 1.4171993, 0.008140487, 0.0054, 0.0033, 0.0045, 11.255669], 'p_val': [0.96564263, 0.6696721, 0.49205709, 0.76099885, 0.13848515, 0.25886652, 0.8412003, 0.9281087, 0.9984723, 1.0, 0.9999524, 0.33794913], 'threshold': 0.05}, 'meta': {'name': 'TabularDrift', 'detector_type': 'offline', 'data_type': None}} \n",
      "\n",
      "Age -- Drift? No! -- K-S 0.007 -- p-value 0.966\n",
      "Workclass -- Drift? No! -- Chi2 5.800 -- p-value 0.670\n",
      "Education -- Drift? No! -- Chi2 5.413 -- p-value 0.492\n",
      "Marital Status -- Drift? No! -- Chi2 1.167 -- p-value 0.761\n",
      "Occupation -- Drift? No! -- Chi2 12.296 -- p-value 0.138\n",
      "Relationship -- Drift? No! -- Chi2 6.520 -- p-value 0.259\n",
      "Race -- Drift? No! -- Chi2 1.417 -- p-value 0.841\n",
      "Sex -- Drift? No! -- Chi2 0.008 -- p-value 0.928\n",
      "Capital Gain -- Drift? No! -- K-S 0.005 -- p-value 0.998\n",
      "Capital Loss -- Drift? No! -- K-S 0.003 -- p-value 1.000\n",
      "Hours per week -- Drift? No! -- K-S 0.004 -- p-value 1.000\n",
      "Country -- Drift? No! -- Chi2 11.256 -- p-value 0.338\n"
     ]
    }
   ],
   "metadata": {}
  },
  {
   "cell_type": "markdown",
   "source": [
    "# ChiSquareDrift"
   ],
   "metadata": {}
  },
  {
   "cell_type": "markdown",
   "source": [
    "### Detecting Drift locally"
   ],
   "metadata": {}
  },
  {
   "cell_type": "code",
   "execution_count": 22,
   "source": [
    "cols = list(category_map.keys())\n",
    "cat_names = [feature_names[_] for _ in list(category_map.keys())]\n",
    "X_ref_cat, X_t0_cat = X_ref[:, cols], X_t0[:, cols]\n",
    "X_ref_cat.shape, X_t0_cat.shape"
   ],
   "outputs": [
    {
     "output_type": "execute_result",
     "data": {
      "text/plain": [
       "((10000, 8), (10000, 8))"
      ]
     },
     "metadata": {},
     "execution_count": 22
    }
   ],
   "metadata": {}
  },
  {
   "cell_type": "code",
   "execution_count": 23,
   "source": [
    "from alibi_detect.cd import ChiSquareDrift\n",
    "cd = ChiSquareDrift(X_ref_cat, p_val=.05)\n",
    "preds = cd.predict(X_t0_cat,drift_type=\"feature\")"
   ],
   "outputs": [],
   "metadata": {}
  },
  {
   "cell_type": "code",
   "execution_count": 24,
   "source": [
    "labels = ['No!', 'Yes!']\n",
    "print(f\"Threshold {preds['data']['threshold']}\")\n",
    "for f in range(cd.n_features):\n",
    "    fname = cat_names[f]\n",
    "    is_drift = (preds['data']['p_val'][f] < preds['data']['threshold']).astype(int)\n",
    "    stat_val, p_val = preds['data']['distance'][f], preds['data']['p_val'][f]\n",
    "    print(f'{fname} -- Drift? {labels[is_drift]} -- Chi2 {stat_val:.3f} -- p-value {p_val:.3f}')"
   ],
   "outputs": [
    {
     "output_type": "stream",
     "name": "stdout",
     "text": [
      "Threshold 0.05\n",
      "Workclass -- Drift? No! -- Chi2 8.487 -- p-value 0.387\n",
      "Education -- Drift? No! -- Chi2 4.753 -- p-value 0.576\n",
      "Marital Status -- Drift? No! -- Chi2 3.160 -- p-value 0.368\n",
      "Occupation -- Drift? No! -- Chi2 8.194 -- p-value 0.415\n",
      "Relationship -- Drift? No! -- Chi2 0.485 -- p-value 0.993\n",
      "Race -- Drift? No! -- Chi2 0.587 -- p-value 0.965\n",
      "Sex -- Drift? No! -- Chi2 0.217 -- p-value 0.641\n",
      "Country -- Drift? No! -- Chi2 9.991 -- p-value 0.441\n"
     ]
    }
   ],
   "metadata": {}
  },
  {
   "cell_type": "markdown",
   "source": [
    "### Detecting Drift via custom endpoint for Seldon protocol"
   ],
   "metadata": {}
  },
  {
   "cell_type": "code",
   "execution_count": 25,
   "source": [
    "from alibi_detect.utils.saving import save_detector\n",
    "filepath = \"alibi-detector-artifacts/detector_data_cat\"\n",
    "save_detector(cd, filepath)"
   ],
   "outputs": [],
   "metadata": {}
  },
  {
   "cell_type": "code",
   "execution_count": 26,
   "source": [
    "%%writefile model-settings.json\n",
    "{\n",
    "  \"name\": \"income-classifier-cd\",\n",
    "  \"implementation\": \"mlserver_alibi_detect.AlibiDriftDetectRuntime\",\n",
    "  \"parameters\": {\n",
    "    \"uri\": \"./alibi-detector-artifacts/detector_data_cat\",\n",
    "    \"version\": \"v0.1.0\",\n",
    "    \"extra\":{\n",
    "      \"detector_type\":\"alibi_detect.cd.ChiSquareDrift\",\n",
    "      \"init_detector\": false,\n",
    "      \"protocol\": \"seldon.http\",\n",
    "      \"predict_parameters\": {\n",
    "        \"drift_type\": \"feature\"\n",
    "      }\n",
    "    }\n",
    "  }\n",
    "}"
   ],
   "outputs": [
    {
     "output_type": "stream",
     "name": "stdout",
     "text": [
      "Overwriting model-settings.json\n"
     ]
    }
   ],
   "metadata": {}
  },
  {
   "cell_type": "markdown",
   "source": [
    "Restart the mlserver after changing the settings file."
   ],
   "metadata": {}
  },
  {
   "cell_type": "code",
   "execution_count": 30,
   "source": [
    "import requests\n",
    "\n",
    "inference_request = {\n",
    "    \"data\":{\n",
    "        \"ndarray\": X_t0_cat.tolist()\n",
    "    }\n",
    "}\n",
    "\n",
    "endpoint = \"http://localhost:8080/\"\n",
    "response = requests.post(endpoint, json=inference_request)"
   ],
   "outputs": [],
   "metadata": {}
  },
  {
   "cell_type": "code",
   "execution_count": 31,
   "source": [
    "import json\n",
    "response_dict = json.loads(response.text)\n",
    "print(response_dict,\"\\n\")\n",
    "\n",
    "labels = ['No!', 'Yes!']\n",
    "for f in range(cd.n_features):\n",
    "    stat = 'Chi2' if f in list(categories_per_feature.keys()) else 'K-S'\n",
    "    fname = cat_names[f]\n",
    "    is_drift = response_dict['data']['is_drift'][f]\n",
    "    stat_val, p_val = response_dict['data']['distance'][f], response_dict['data']['p_val'][f]\n",
    "    print(f'{fname} -- Drift? {labels[is_drift]} -- {stat} {stat_val:.3f} -- p-value {p_val:.3f}')"
   ],
   "outputs": [
    {
     "output_type": "stream",
     "name": "stdout",
     "text": [
      "{'data': {'is_drift': [0, 0, 0, 0, 0, 0, 0, 0], 'distance': [8.486513, 4.7529316, 3.159944, 8.194137, 0.48458526, 0.5865231, 0.21689056, 9.991033], 'p_val': [0.38744345, 0.5758693, 0.36761624, 0.41473988, 0.99267685, 0.9645494, 0.6414195, 0.44128036], 'threshold': 0.05}, 'meta': {'name': 'ChiSquareDrift', 'detector_type': 'offline', 'data_type': None}} \n",
      "\n",
      "Workclass -- Drift? No! -- K-S 8.487 -- p-value 0.387\n",
      "Education -- Drift? No! -- Chi2 4.753 -- p-value 0.576\n",
      "Marital Status -- Drift? No! -- Chi2 3.160 -- p-value 0.368\n",
      "Occupation -- Drift? No! -- Chi2 8.194 -- p-value 0.415\n",
      "Relationship -- Drift? No! -- Chi2 0.485 -- p-value 0.993\n",
      "Race -- Drift? No! -- Chi2 0.587 -- p-value 0.965\n",
      "Sex -- Drift? No! -- Chi2 0.217 -- p-value 0.641\n",
      "Country -- Drift? No! -- Chi2 9.991 -- p-value 0.441\n"
     ]
    }
   ],
   "metadata": {}
  }
 ],
 "metadata": {
  "kernelspec": {
   "name": "python3",
   "display_name": "Python 3.9.6 64-bit ('alibi': conda)"
  },
  "language_info": {
   "codemirror_mode": {
    "name": "ipython",
    "version": 3
   },
   "file_extension": ".py",
   "mimetype": "text/x-python",
   "name": "python",
   "nbconvert_exporter": "python",
   "pygments_lexer": "ipython3",
   "version": "3.9.6"
  },
  "interpreter": {
   "hash": "5377649fd9904e56b1a72eb79a8e3137babc0e642f8d1adb411c1391b7f9d00d"
  }
 },
 "nbformat": 4,
 "nbformat_minor": 4
}