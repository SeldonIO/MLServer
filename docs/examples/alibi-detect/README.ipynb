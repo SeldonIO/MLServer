{
 "cells": [
  {
   "cell_type": "markdown",
   "source": [
    "# Serving Alibi-Detect models\n",
    "\n",
    "Out of the box, `mlserver` supports the deployment and serving of `alibi-detect` models.\n",
    "\n",
    "In this example, we will cover how we can create a detector configuration to then serve it using `mlserver`."
   ],
   "metadata": {}
  },
  {
   "cell_type": "markdown",
   "source": [
    "## Training\n",
    "\n",
    "The first step will be to train a simple `alibi-detect` model.\n",
    "For that, we will use the [income Classifier example from the `alibi-detect` documentation](https://docs.seldon.io/projects/alibi-detect/en/latest/examples/cd_chi2ks_adult.html) which trains a drift detector."
   ],
   "metadata": {}
  },
  {
   "cell_type": "code",
   "execution_count": 188,
   "source": [
    "import alibi\n",
    "import matplotlib.pyplot as plt\n",
    "import numpy as np"
   ],
   "outputs": [],
   "metadata": {}
  },
  {
   "cell_type": "code",
   "execution_count": 189,
   "source": [
    "adult = alibi.datasets.fetch_adult()\n",
    "X, y = adult.data, adult.target\n",
    "feature_names = adult.feature_names\n",
    "category_map = adult.category_map\n",
    "X.shape, y.shape"
   ],
   "outputs": [
    {
     "output_type": "execute_result",
     "data": {
      "text/plain": [
       "((32561, 12), (32561,))"
      ]
     },
     "metadata": {},
     "execution_count": 189
    }
   ],
   "metadata": {}
  },
  {
   "cell_type": "code",
   "execution_count": 190,
   "source": [
    "n_ref = 10000\n",
    "n_test = 10000\n",
    "\n",
    "X_ref, X_t0, X_t1 = X[:n_ref], X[n_ref:n_ref + n_test], X[n_ref + n_test:n_ref + 2 * n_test]\n",
    "X_ref.shape, X_t0.shape, X_t1.shape"
   ],
   "outputs": [
    {
     "output_type": "execute_result",
     "data": {
      "text/plain": [
       "((10000, 12), (10000, 12), (10000, 12))"
      ]
     },
     "metadata": {},
     "execution_count": 190
    }
   ],
   "metadata": {}
  },
  {
   "cell_type": "code",
   "execution_count": 191,
   "source": [
    "categories_per_feature = {f: None for f in list(category_map.keys())}"
   ],
   "outputs": [],
   "metadata": {}
  },
  {
   "cell_type": "markdown",
   "source": [
    "### Saving our reference data"
   ],
   "metadata": {}
  },
  {
   "cell_type": "code",
   "execution_count": 192,
   "source": [
    "import pickle\n",
    "filepath = 'alibi-detector-artifacts/ref_data.pkl'  # change to directory where detector is saved\n",
    "pickle.dump(X_ref, open(filepath,\"wb\"))"
   ],
   "outputs": [],
   "metadata": {}
  },
  {
   "cell_type": "markdown",
   "source": [
    "## Serving\n",
    "\n",
    "Now that we have trained and saved our model, the next step will be to serve it using `mlserver`. \n",
    "For that, we will need to create 2 configuration files: \n",
    "\n",
    "- `settings.json`: holds the configuration of our server (e.g. ports, log level, etc.).\n",
    "- `model-settings.json`: holds the configuration of our model (e.g. input type, runtime to use, etc.)."
   ],
   "metadata": {}
  },
  {
   "cell_type": "markdown",
   "source": [
    "### `settings.json`"
   ],
   "metadata": {}
  },
  {
   "cell_type": "code",
   "execution_count": 193,
   "source": [
    "%%writefile settings.json\n",
    "{\n",
    "    \"debug\": \"true\"\n",
    "}"
   ],
   "outputs": [
    {
     "output_type": "stream",
     "name": "stdout",
     "text": [
      "Overwriting settings.json\n"
     ]
    }
   ],
   "metadata": {}
  },
  {
   "cell_type": "markdown",
   "source": [
    "### `model-settings.json`"
   ],
   "metadata": {}
  },
  {
   "cell_type": "code",
   "execution_count": 194,
   "source": [
    "%%writefile model-settings.json\n",
    "{\n",
    "  \"name\": \"income-classifier-cd\",\n",
    "  \"implementation\": \"mlserver_alibi_detect.TabularDriftDetector\",\n",
    "  \"parameters\": {\n",
    "    \"uri\": \"./alibi-detector-artifacts/ref_data.pkl\",\n",
    "    \"version\": \"v0.1.0\",\n",
    "    \"initParameters\": {\n",
    "      \"protocol\": \"kfserving.http\",\n",
    "      \"p_val\": 0.05,\n",
    "      \"categories_per_feature\": {\n",
    "        \"1\": null,\n",
    "        \"2\": null,\n",
    "        \"3\": null,\n",
    "        \"4\": null,\n",
    "        \"5\": null,\n",
    "        \"6\": null,\n",
    "        \"7\": null,\n",
    "        \"11\": null\n",
    "      }\n",
    "    },\n",
    "    \"predictParameters\": {\n",
    "      \"drift_type\": \"feature\"\n",
    "    }\n",
    "  }\n",
    "}"
   ],
   "outputs": [
    {
     "output_type": "stream",
     "name": "stdout",
     "text": [
      "Overwriting model-settings.json\n"
     ]
    }
   ],
   "metadata": {}
  },
  {
   "cell_type": "markdown",
   "source": [
    "### Start serving our model\n",
    "\n",
    "Now that we have our config in-place, we can start the server by running `mlserver start .`. This needs to either be ran from the same directory where our config files are or pointing to the folder where they are.\n",
    "\n",
    "```shell\n",
    "mlserver start .\n",
    "```\n",
    "\n",
    "Since this command will start the server and block the terminal, waiting for requests, this will need to be ran in the background on a separate terminal."
   ],
   "metadata": {}
  },
  {
   "cell_type": "markdown",
   "source": [
    "### Send test inference request\n",
    "\n",
    "We now have our model being served by `mlserver`.\n",
    "To make sure that everything is working as expected, let's send a request from our test set.\n",
    "\n",
    "For that, we can use the Python types that `mlserver` provides out of box, or we can build our request manually."
   ],
   "metadata": {}
  },
  {
   "cell_type": "markdown",
   "source": [
    "# TabularDrift"
   ],
   "metadata": {}
  },
  {
   "cell_type": "code",
   "execution_count": 195,
   "source": [
    "from alibi_detect.cd import ChiSquareDrift, TabularDrift\n",
    "cd = TabularDrift(X_ref, p_val=.05, categories_per_feature=categories_per_feature)\n",
    "y = cd.predict(X_t0,drift_type=\"feature\")"
   ],
   "outputs": [],
   "metadata": {}
  },
  {
   "cell_type": "code",
   "execution_count": 197,
   "source": [
    "import requests\n",
    "\n",
    "inference_request = {\n",
    "    \"parameters\": {\"drift_type\": \"feature\",},\n",
    "    \"inputs\": [\n",
    "        {\n",
    "            \"name\": \"predict\",\n",
    "            \"shape\": X_t0.shape,\n",
    "            \"datatype\": \"FP32\",\n",
    "            \"data\": X_t0.tolist(),\n",
    "        }\n",
    "    ],\n",
    "}\n",
    "\n",
    "endpoint = \"http://localhost:8080/v2/models/income-classifier-cd/versions/v0.1.0/infer\"\n",
    "response = requests.post(endpoint, json=inference_request)"
   ],
   "outputs": [],
   "metadata": {}
  },
  {
   "cell_type": "code",
   "execution_count": 198,
   "source": [
    "import json\n",
    "response_dict = json.loads(response.text)\n",
    "print(response_dict,\"\\n\")\n",
    "\n",
    "labels = ['No!', 'Yes!']\n",
    "for f in range(cd.n_features):\n",
    "    stat = 'Chi2' if f in list(categories_per_feature.keys()) else 'K-S'\n",
    "    fname = feature_names[f]\n",
    "    is_drift = response_dict['outputs'][0]['data'][f]\n",
    "    print(f'{fname} -- Drift? {labels[is_drift]}')"
   ],
   "outputs": [
    {
     "output_type": "stream",
     "name": "stdout",
     "text": [
      "{'model_name': 'income-classifier-cd', 'model_version': 'v0.1.0', 'id': '67cb8c4d-3f71-4046-881e-f9fd19c0112d', 'parameters': {'content_type': None, 'detector_type': 'offline', 'data_type': None, 'name': 'TabularDrift'}, 'outputs': [{'name': 'detect', 'shape': [12], 'datatype': 'INT64', 'parameters': None, 'data': [0, 0, 0, 0, 0, 0, 0, 0, 0, 0, 0, 0]}]} \n",
      "\n",
      "Age -- Drift? No!\n",
      "Workclass -- Drift? No!\n",
      "Education -- Drift? No!\n",
      "Marital Status -- Drift? No!\n",
      "Occupation -- Drift? No!\n",
      "Relationship -- Drift? No!\n",
      "Race -- Drift? No!\n",
      "Sex -- Drift? No!\n",
      "Capital Gain -- Drift? No!\n",
      "Capital Loss -- Drift? No!\n",
      "Hours per week -- Drift? No!\n",
      "Country -- Drift? No!\n"
     ]
    }
   ],
   "metadata": {}
  },
  {
   "cell_type": "code",
   "execution_count": 199,
   "source": [
    "import requests\n",
    "\n",
    "inference_request = {\n",
    "    \"inputs\": [\n",
    "        {\n",
    "            \"name\": \"predict\",\n",
    "            \"shape\": X_t0.shape,\n",
    "            \"datatype\": \"FP32\",\n",
    "            \"data\": X_t0.tolist(),\n",
    "        }\n",
    "    ],\n",
    "}\n",
    "\n",
    "endpoint = \"http://localhost:8080/\"\n",
    "response = requests.post(endpoint, json=inference_request)"
   ],
   "outputs": [],
   "metadata": {}
  },
  {
   "cell_type": "code",
   "execution_count": 200,
   "source": [
    "import json\n",
    "response_dict = json.loads(response.text)\n",
    "print(response_dict,\"\\n\")\n",
    "\n",
    "labels = ['No!', 'Yes!']\n",
    "for f in range(cd.n_features):\n",
    "    stat = 'Chi2' if f in list(categories_per_feature.keys()) else 'K-S'\n",
    "    fname = feature_names[f]\n",
    "    is_drift = response_dict['data']['is_drift'][f]\n",
    "    stat_val, p_val = response_dict['data']['distance'][f], response_dict['data']['p_val'][f]\n",
    "    print(f'{fname} -- Drift? {labels[is_drift]} -- {stat} {stat_val:.3f} -- p-value {p_val:.3f}')"
   ],
   "outputs": [
    {
     "output_type": "stream",
     "name": "stdout",
     "text": [
      "{'data': {'is_drift': [0, 0, 0, 0, 0, 0, 0, 0, 0, 0, 0, 0], 'distance': [0.011599999852478504, 8.486513137817383, 4.752931594848633, 3.1599440574645996, 8.194136619567871, 0.4845852553844452, 0.5865231156349182, 0.21689055860042572, 0.002400000113993883, 0.0015999999595806003, 0.011599999852478504, 9.991032600402832], 'p_val': [0.5078648328781128, 0.3874434530735016, 0.5758693218231201, 0.3676162362098694, 0.4147398769855499, 0.992676854133606, 0.9645494222640991, 0.6414194703102112, 1.0, 1.0, 0.5078648328781128, 0.4412803649902344], 'threshold': 0.05}, 'meta': {'name': 'TabularDrift', 'detector_type': 'offline', 'data_type': None}} \n",
      "\n",
      "Age -- Drift? No! -- K-S 0.012 -- p-value 0.508\n",
      "Workclass -- Drift? No! -- Chi2 8.487 -- p-value 0.387\n",
      "Education -- Drift? No! -- Chi2 4.753 -- p-value 0.576\n",
      "Marital Status -- Drift? No! -- Chi2 3.160 -- p-value 0.368\n",
      "Occupation -- Drift? No! -- Chi2 8.194 -- p-value 0.415\n",
      "Relationship -- Drift? No! -- Chi2 0.485 -- p-value 0.993\n",
      "Race -- Drift? No! -- Chi2 0.587 -- p-value 0.965\n",
      "Sex -- Drift? No! -- Chi2 0.217 -- p-value 0.641\n",
      "Capital Gain -- Drift? No! -- K-S 0.002 -- p-value 1.000\n",
      "Capital Loss -- Drift? No! -- K-S 0.002 -- p-value 1.000\n",
      "Hours per week -- Drift? No! -- K-S 0.012 -- p-value 0.508\n",
      "Country -- Drift? No! -- Chi2 9.991 -- p-value 0.441\n"
     ]
    }
   ],
   "metadata": {}
  },
  {
   "cell_type": "code",
   "execution_count": 201,
   "source": [
    "%%writefile model-settings.json\n",
    "{\n",
    "  \"name\": \"income-classifier-cd\",\n",
    "  \"implementation\": \"mlserver_alibi_detect.TabularDriftDetector\",\n",
    "  \"parameters\": {\n",
    "    \"uri\": \"./alibi-detector-artifacts/ref_data.pkl\",\n",
    "    \"version\": \"v0.1.0\",\n",
    "    \"initParameters\": {\n",
    "      \"protocol\": \"tensorflow.http\",\n",
    "      \"p_val\": 0.05,\n",
    "      \"categories_per_feature\": {\n",
    "        \"1\": null,\n",
    "        \"2\": null,\n",
    "        \"3\": null,\n",
    "        \"4\": null,\n",
    "        \"5\": null,\n",
    "        \"6\": null,\n",
    "        \"7\": null,\n",
    "        \"11\": null\n",
    "      }\n",
    "    },\n",
    "    \"predictParameters\": {\n",
    "      \"drift_type\": \"feature\"\n",
    "    }\n",
    "  }\n",
    "}"
   ],
   "outputs": [
    {
     "output_type": "stream",
     "name": "stdout",
     "text": [
      "Overwriting model-settings.json\n"
     ]
    }
   ],
   "metadata": {}
  },
  {
   "cell_type": "code",
   "execution_count": 204,
   "source": [
    "import requests\n",
    "\n",
    "inference_request = {\n",
    "    \"instances\": X_t1.tolist()\n",
    "}\n",
    "\n",
    "endpoint = \"http://localhost:8080/\"\n",
    "response = requests.post(endpoint, json=inference_request)"
   ],
   "outputs": [],
   "metadata": {}
  },
  {
   "cell_type": "code",
   "execution_count": 205,
   "source": [
    "import json\n",
    "response_dict = json.loads(response.text)\n",
    "print(response_dict,\"\\n\")\n",
    "\n",
    "labels = ['No!', 'Yes!']\n",
    "for f in range(cd.n_features):\n",
    "    stat = 'Chi2' if f in list(categories_per_feature.keys()) else 'K-S'\n",
    "    fname = feature_names[f]\n",
    "    is_drift = response_dict['data']['is_drift'][f]\n",
    "    stat_val, p_val = response_dict['data']['distance'][f], response_dict['data']['p_val'][f]\n",
    "    print(f'{fname} -- Drift? {labels[is_drift]} -- {stat} {stat_val:.3f} -- p-value {p_val:.3f}')"
   ],
   "outputs": [
    {
     "output_type": "stream",
     "name": "stdout",
     "text": [
      "{'data': {'is_drift': [0, 0, 0, 0, 0, 0, 0, 0, 0, 0, 0, 0], 'distance': [0.007000000216066837, 5.799564838409424, 5.412807464599609, 1.1667115688323975, 12.295819282531738, 6.5198540687561035, 1.4171992540359497, 0.008140486665070057, 0.005400000140070915, 0.0032999999821186066, 0.0044999998062849045, 11.255668640136719], 'p_val': [0.9656426310539246, 0.6696720719337463, 0.49205708503723145, 0.7609988451004028, 0.1384851485490799, 0.2588665187358856, 0.8412002921104431, 0.9281086921691895, 0.998472273349762, 1.0, 0.9999523758888245, 0.33794912695884705], 'threshold': 0.05}, 'meta': {'name': 'TabularDrift', 'detector_type': 'offline', 'data_type': None}} \n",
      "\n",
      "Age -- Drift? No! -- K-S 0.007 -- p-value 0.966\n",
      "Workclass -- Drift? No! -- Chi2 5.800 -- p-value 0.670\n",
      "Education -- Drift? No! -- Chi2 5.413 -- p-value 0.492\n",
      "Marital Status -- Drift? No! -- Chi2 1.167 -- p-value 0.761\n",
      "Occupation -- Drift? No! -- Chi2 12.296 -- p-value 0.138\n",
      "Relationship -- Drift? No! -- Chi2 6.520 -- p-value 0.259\n",
      "Race -- Drift? No! -- Chi2 1.417 -- p-value 0.841\n",
      "Sex -- Drift? No! -- Chi2 0.008 -- p-value 0.928\n",
      "Capital Gain -- Drift? No! -- K-S 0.005 -- p-value 0.998\n",
      "Capital Loss -- Drift? No! -- K-S 0.003 -- p-value 1.000\n",
      "Hours per week -- Drift? No! -- K-S 0.004 -- p-value 1.000\n",
      "Country -- Drift? No! -- Chi2 11.256 -- p-value 0.338\n"
     ]
    }
   ],
   "metadata": {}
  },
  {
   "cell_type": "markdown",
   "source": [
    "# ChiSquareDrift"
   ],
   "metadata": {}
  },
  {
   "cell_type": "code",
   "execution_count": 206,
   "source": [
    "cols = list(category_map.keys())\n",
    "cat_names = [feature_names[_] for _ in list(category_map.keys())]\n",
    "X_ref_cat, X_t0_cat = X_ref[:, cols], X_t0[:, cols]\n",
    "X_ref_cat.shape, X_t0_cat.shape"
   ],
   "outputs": [
    {
     "output_type": "execute_result",
     "data": {
      "text/plain": [
       "((10000, 8), (10000, 8))"
      ]
     },
     "metadata": {},
     "execution_count": 206
    }
   ],
   "metadata": {}
  },
  {
   "cell_type": "code",
   "execution_count": 207,
   "source": [
    "cd = ChiSquareDrift(X_ref_cat, p_val=.05)\n",
    "preds = cd.predict(X_t0_cat,drift_type=\"feature\")\n",
    "print(f\"Threshold {preds['data']['threshold']}\")\n",
    "for f in range(cd.n_features):\n",
    "    fname = cat_names[f]\n",
    "    is_drift = (preds['data']['p_val'][f] < preds['data']['threshold']).astype(int)\n",
    "    stat_val, p_val = preds['data']['distance'][f], preds['data']['p_val'][f]\n",
    "    print(f'{fname} -- Drift? {labels[is_drift]} -- {stat} {stat_val:.3f} -- p-value {p_val:.3f}')"
   ],
   "outputs": [
    {
     "output_type": "stream",
     "name": "stdout",
     "text": [
      "Threshold 0.05\n",
      "Workclass -- Drift? No! -- Chi2 8.487 -- p-value 0.387\n",
      "Education -- Drift? No! -- Chi2 4.753 -- p-value 0.576\n",
      "Marital Status -- Drift? No! -- Chi2 3.160 -- p-value 0.368\n",
      "Occupation -- Drift? No! -- Chi2 8.194 -- p-value 0.415\n",
      "Relationship -- Drift? No! -- Chi2 0.485 -- p-value 0.993\n",
      "Race -- Drift? No! -- Chi2 0.587 -- p-value 0.965\n",
      "Sex -- Drift? No! -- Chi2 0.217 -- p-value 0.641\n",
      "Country -- Drift? No! -- Chi2 9.991 -- p-value 0.441\n"
     ]
    }
   ],
   "metadata": {}
  },
  {
   "cell_type": "code",
   "execution_count": 208,
   "source": [
    "import pickle\n",
    "filepath = 'alibi-detector-artifacts/ref_cat_data.pkl'  # change to directory where detector is saved\n",
    "pickle.dump(X_ref_cat, open(filepath,\"wb\"))"
   ],
   "outputs": [],
   "metadata": {}
  },
  {
   "cell_type": "code",
   "execution_count": 209,
   "source": [
    "%%writefile model-settings.json\n",
    "{\n",
    "  \"name\": \"income-classifier-cd\",\n",
    "  \"implementation\": \"mlserver_alibi_detect.ChiSquareDriftDetector\",\n",
    "  \"parameters\": {\n",
    "    \"uri\": \"./alibi-detector-artifacts/ref_cat_data.pkl\",\n",
    "    \"version\": \"v0.1.0\",\n",
    "    \"initParameters\": {\n",
    "      \"protocol\": \"tensorflow.http\",\n",
    "      \"p_val\": 0.05\n",
    "    },\n",
    "    \"predictParameters\": {\n",
    "      \"drift_type\": \"feature\"\n",
    "    }\n",
    "  }\n",
    "}"
   ],
   "outputs": [
    {
     "output_type": "stream",
     "name": "stdout",
     "text": [
      "Overwriting model-settings.json\n"
     ]
    }
   ],
   "metadata": {}
  },
  {
   "cell_type": "code",
   "execution_count": 210,
   "source": [
    "import requests\n",
    "\n",
    "inference_request = {\n",
    "    \"instances\": X_t0_cat.tolist()\n",
    "}\n",
    "\n",
    "endpoint = \"http://localhost:8080/\"\n",
    "response = requests.post(endpoint, json=inference_request)"
   ],
   "outputs": [],
   "metadata": {}
  },
  {
   "cell_type": "code",
   "execution_count": 211,
   "source": [
    "import json\n",
    "response_dict = json.loads(response.text)\n",
    "print(response_dict,\"\\n\")\n",
    "\n",
    "labels = ['No!', 'Yes!']\n",
    "for f in range(cd.n_features):\n",
    "    stat = 'Chi2' if f in list(categories_per_feature.keys()) else 'K-S'\n",
    "    fname = cat_names[f]\n",
    "    is_drift = response_dict['data']['is_drift'][f]\n",
    "    stat_val, p_val = response_dict['data']['distance'][f], response_dict['data']['p_val'][f]\n",
    "    print(f'{fname} -- Drift? {labels[is_drift]} -- {stat} {stat_val:.3f} -- p-value {p_val:.3f}')"
   ],
   "outputs": [
    {
     "output_type": "stream",
     "name": "stdout",
     "text": [
      "{'data': {'is_drift': [0, 0, 0, 0, 0, 0, 0, 0], 'distance': [8.486513137817383, 4.752931594848633, 3.1599440574645996, 8.194136619567871, 0.4845852553844452, 0.5865231156349182, 0.21689055860042572, 9.991032600402832], 'p_val': [0.3874434530735016, 0.5758693218231201, 0.3676162362098694, 0.4147398769855499, 0.992676854133606, 0.9645494222640991, 0.6414194703102112, 0.4412803649902344], 'threshold': 0.05}, 'meta': {'name': 'ChiSquareDrift', 'detector_type': 'offline', 'data_type': None}} \n",
      "\n",
      "Workclass -- Drift? No! -- K-S 8.487 -- p-value 0.387\n",
      "Education -- Drift? No! -- Chi2 4.753 -- p-value 0.576\n",
      "Marital Status -- Drift? No! -- Chi2 3.160 -- p-value 0.368\n",
      "Occupation -- Drift? No! -- Chi2 8.194 -- p-value 0.415\n",
      "Relationship -- Drift? No! -- Chi2 0.485 -- p-value 0.993\n",
      "Race -- Drift? No! -- Chi2 0.587 -- p-value 0.965\n",
      "Sex -- Drift? No! -- Chi2 0.217 -- p-value 0.641\n",
      "Country -- Drift? No! -- Chi2 9.991 -- p-value 0.441\n"
     ]
    }
   ],
   "metadata": {}
  }
 ],
 "metadata": {
  "kernelspec": {
   "name": "python3",
   "display_name": "Python 3.9.6 64-bit ('alibi': conda)"
  },
  "language_info": {
   "codemirror_mode": {
    "name": "ipython",
    "version": 3
   },
   "file_extension": ".py",
   "mimetype": "text/x-python",
   "name": "python",
   "nbconvert_exporter": "python",
   "pygments_lexer": "ipython3",
   "version": "3.9.6"
  },
  "interpreter": {
   "hash": "5377649fd9904e56b1a72eb79a8e3137babc0e642f8d1adb411c1391b7f9d00d"
  }
 },
 "nbformat": 4,
 "nbformat_minor": 4
}